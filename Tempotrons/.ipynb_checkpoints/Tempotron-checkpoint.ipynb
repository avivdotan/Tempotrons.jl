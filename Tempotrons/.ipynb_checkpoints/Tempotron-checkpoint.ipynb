{
 "cells": [
  {
   "cell_type": "code",
   "execution_count": 1,
   "metadata": {},
   "outputs": [],
   "source": [
    "push!(LOAD_PATH, \"../\");"
   ]
  },
  {
   "cell_type": "code",
   "execution_count": 2,
   "metadata": {},
   "outputs": [],
   "source": [
    "using Tempotrons\n",
    "using Tempotrons.Utils\n",
    "using Tempotrons.Plots\n",
    "using Plots\n",
    "pyplot(size = (500, 1000));"
   ]
  },
  {
   "cell_type": "code",
   "execution_count": null,
   "metadata": {
    "scrolled": false
   },
   "outputs": [],
   "source": [
    "N = 10\n",
    "T = 500\n",
    "dt = 1\n",
    "t = collect(0:dt:T)\n",
    "ν = 3\n",
    "n_samples = 10\n",
    "n_steps = 5000\n",
    "tmp = Tempotron(N = N)\n",
    "\n",
    "# inp1 = [[70, 200, 400], [], [400, 420], [], [110], [230], [240, 260, 340], [380], [300], [105]]\n",
    "# inp2 = [[], [395], [50, 170], [], [70, 280], [], [290], [115], [250, 320], [225, 330]]\n",
    "# samples = [(inp1, true), (inp2, false)]\n",
    "samples = [([PoissonSpikeTrain(ν = ν, T = T)\n",
    "             for i = 1:N],\n",
    "            rand(Bool))\n",
    "           for j = 1:n_samples]\n",
    "inp_plots = [PlotInputs(s[1], T_max = T, color = (s[2] ? :red : :blue))\n",
    "             for s ∈ samples]\n",
    "\n",
    "out_b = [tmp(s[1], t = t) for s ∈ samples]\n",
    "\n",
    "@time for i = 1:n_steps\n",
    "    s = rand(samples)\n",
    "    Train!(tmp, s[1], s[2], T_max = T)\n",
    "end\n",
    "\n",
    "out_a = [tmp(s[1], t = t) for s ∈ samples]\n",
    "\n",
    "train_plots = [PlotPotential(tmp, out_b = out_b[i], out_a = out_a[i],\n",
    "                             t = t, color = (samples[i][2] ? :red : :blue))\n",
    "                for i = 1:length(samples)]\n",
    "ps = vcat(reshape(inp_plots, 1, :), reshape(train_plots, 1, :))\n",
    "plot(ps[:]..., layout = (length(inp_plots), 2))"
   ]
  }
 ],
 "metadata": {
  "@webio": {
   "lastCommId": null,
   "lastKernelId": null
  },
  "kernelspec": {
   "display_name": "Julia 1.1.0",
   "language": "julia",
   "name": "julia-1.1"
  },
  "language_info": {
   "file_extension": ".jl",
   "mimetype": "application/julia",
   "name": "julia",
   "version": "1.1.0"
  }
 },
 "nbformat": 4,
 "nbformat_minor": 2
}
