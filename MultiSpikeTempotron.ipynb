{
  "cells": [
    {
      "cell_type": "markdown",
      "source": [
        "# Multi-Spike Tempotron\n",
        "An implementation of the binary tempotron in Julia. \n",
        "For further details see [Gütig, R., & Sompolinsky, H. (2006). The tempotron: a neuron that learns spike timing–based decisions. Nature neuroscience, 9(3), 420.](https://www.nature.com/articles/nn1643)."
      ],
      "metadata": {}
    },
    {
      "cell_type": "markdown",
      "source": [
        "## Imports"
      ],
      "metadata": {}
    },
    {
      "cell_type": "code",
      "source": [
        "push!(LOAD_PATH, abspath(\"../\"))\n",
        "using Tempotrons\n",
        "using Tempotrons.InputGen\n",
        "using Tempotrons.Plots\n",
        "using Tempotrons.Optimizers\n",
        "using Plots"
      ],
      "outputs": [
        {
          "output_type": "stream",
          "name": "stderr",
          "text": [
            "┌ Info: Recompiling stale cache file C:\\Users\\Aviv\\.julia\\compiled\\v1.1\\Tempotrons.ji for Tempotrons [top-level]\n",
            "└ @ Base loading.jl:1184\n"
          ]
        },
        {
          "output_type": "error",
          "ename": "UndefVarError",
          "evalue": "UndefVarError: Utils not defined",
          "traceback": [
            "UndefVarError: Utils not defined",
            "",
            "Stacktrace:",
            " [1] top-level scope at In[2]:2"
          ]
        }
      ],
      "execution_count": 2,
      "metadata": {}
    },
    {
      "cell_type": "markdown",
      "source": [
        "## Set parameters"
      ],
      "metadata": {}
    },
    {
      "cell_type": "code",
      "source": [
        "N = 10\n",
        "T = 500\n",
        "dt = 0.1\n",
        "t = collect(0:dt:T)\n",
        "ν = 3\n",
        "λ = 0.1\n",
        "opt = RMSprop(λ)\n",
        "n_samples = 10\n",
        "n_classes = 5\n",
        "n_steps = 1000\n",
        "tmp = Tempotron(N = N);"
      ],
      "outputs": [],
      "execution_count": null,
      "metadata": {
        "collapsed": false,
        "outputHidden": false,
        "inputHidden": false
      }
    },
    {
      "cell_type": "markdown",
      "source": [
        "## Generate input samples"
      ],
      "metadata": {}
    },
    {
      "cell_type": "code",
      "source": [
        "base_samples = [[PoissonSpikeTrain(ν = ν, T = T)\n",
        "                 for i = 1:N]\n",
        "                for j = 1:2]\n",
        "samples = [([SpikeJitter(s, T = T, σ = 5)\n",
        "             for s ∈ base_samples[2(j-1)÷n_samples + 1]],\n",
        "            Bool(2(j-1)÷n_samples))\n",
        "           for j = 1:n_samples]"
      ],
      "outputs": [],
      "execution_count": null,
      "metadata": {
        "collapsed": false,
        "outputHidden": false,
        "inputHidden": false
      }
    },
    {
      "cell_type": "markdown",
      "source": [
        "## Training"
      ],
      "metadata": {}
    },
    {
      "cell_type": "code",
      "source": [
        "# Get the tempotron's output before training\n",
        "out_b = [tmp(s[1], t = t) for s ∈ samples]\n",
        "\n",
        "# Train the tempotron\n",
        "@time for i = 1:n_steps\n",
        "    s = rand(samples)\n",
        "    Train!(tmp, s[1], s[2], optimizer = opt, T_max = T)\n",
        "end\n",
        "\n",
        "# Get the tempotron's output after training\n",
        "out_a = [tmp(s[1], t = t) for s ∈ samples]"
      ],
      "outputs": [],
      "execution_count": null,
      "metadata": {
        "collapsed": false,
        "outputHidden": false,
        "inputHidden": false
      }
    },
    {
      "cell_type": "markdown",
      "source": [
        "## Plots"
      ],
      "metadata": {}
    },
    {
      "cell_type": "code",
      "source": [
        "pyplot(size = (500, 1000))\n",
        "inp_plots = [PlotInputs(s[1], T_max = T, color = (s[2] ? :red : :blue))\n",
        "             for s ∈ samples]\n",
        "train_plots = [PlotPotential(tmp, out_b = out_b[i], out_a = out_a[i],\n",
        "                             t = t, color = (samples[i][2] ? :red : :blue))\n",
        "               for i = 1:length(samples)]\n",
        "ps = vcat(reshape(inp_plots, 1, :), reshape(train_plots, 1, :))\n",
        "p = plot(ps[:]..., layout = (length(inp_plots), 2))\n",
        "display(p)"
      ],
      "outputs": [
        {
          "output_type": "error",
          "ename": "UndefVarError",
          "evalue": "UndefVarError: SGD not defined",
          "traceback": [
            "UndefVarError: SGD not defined",
            "",
            "Stacktrace:",
            " [1] top-level scope at In[3]:6"
          ]
        }
      ],
      "execution_count": 3,
      "metadata": {
        "scrolled": false
      }
    }
  ],
  "metadata": {
    "@webio": {
      "lastCommId": null,
      "lastKernelId": null
    },
    "kernel_info": {
      "name": "julia-1.1"
    },
    "kernelspec": {
      "name": "julia-1.1",
      "language": "julia",
      "display_name": "Julia 1.1.1"
    },
    "language_info": {
      "file_extension": ".jl",
      "name": "julia",
      "mimetype": "application/julia",
      "version": "1.1.1"
    },
    "nteract": {
      "version": "0.14.3"
    }
  },
  "nbformat": 4,
  "nbformat_minor": 2
}