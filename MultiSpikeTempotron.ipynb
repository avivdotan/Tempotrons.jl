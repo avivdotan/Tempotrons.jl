{
  "cells": [
    {
      "cell_type": "markdown",
      "source": [
        "# Multi-Spike Tempotron\n",
        "An implementation of the binary tempotron in Julia. \n",
        "For further details see [Gütig, R. (2016). Spiking neurons can discover predictive features by aggregate-label learning. Science, 351(6277), aab4113.](https://science.sciencemag.org/content/351/6277/aab4113)."
      ],
      "metadata": {}
    },
    {
      "cell_type": "markdown",
      "source": [
        "## Imports"
      ],
      "metadata": {}
    },
    {
      "cell_type": "code",
      "source": [
        "push!(LOAD_PATH, abspath(\"../\"))\n",
        "using Tempotrons\n",
        "using Tempotrons.InputGen\n",
        "using Tempotrons.Plots\n",
        "using Tempotrons.Optimizers\n",
        "using Plots\n",
        "pyplot();"
      ],
      "outputs": [],
      "execution_count": 1,
      "metadata": {}
    },
    {
      "cell_type": "markdown",
      "source": [
        "## Set parameters"
      ],
      "metadata": {}
    },
    {
      "cell_type": "code",
      "source": [
        "N = 10\n",
        "T = 500\n",
        "dt = 0.1\n",
        "t = collect(0:dt:T)\n",
        "ν = 3\n",
        "λ = 0.1\n",
        "opt = RMSprop(λ)\n",
        "n_samples = 10\n",
        "n_classes = 5\n",
        "n_steps = 1000\n",
        "tmp = Tempotron(N = N);"
      ],
      "outputs": [],
      "execution_count": null,
      "metadata": {
        "collapsed": false,
        "outputHidden": false,
        "inputHidden": false
      }
    },
    {
      "cell_type": "markdown",
      "source": [
        "## Generate input samples"
      ],
      "metadata": {}
    },
    {
      "cell_type": "code",
      "source": [
        "base_samples = [[PoissonSpikeTrain(ν = ν, T = T)\n",
        "                 for i = 1:N]\n",
        "                for j = 1:n_classes]\n",
        "samples = [([SpikeJitter(s, T = T, σ = 5)\n",
        "             for s ∈ base_samples[n_classes*(j - 1)÷n_samples + 1]],\n",
        "            n_classes*(j - 1)÷n_samples)\n",
        "           for j = 1:n_samples];"
      ],
      "outputs": [],
      "execution_count": null,
      "metadata": {
        "collapsed": false,
        "outputHidden": false,
        "inputHidden": false
      }
    },
    {
      "cell_type": "markdown",
      "source": [
        "## Training"
      ],
      "metadata": {}
    },
    {
      "cell_type": "code",
      "source": [
        "# Get the tempotron's output before training\n",
        "out_b = [tmp(s[1], t = t) for s ∈ samples]\n",
        "\n",
        "# Train the tempotron\n",
        "@time for i = 1:n_steps\n",
        "    s = rand(samples)\n",
        "    Train!(tmp, s[1], s[2], optimizer = opt, T_max = T)\n",
        "end\n",
        "\n",
        "# Get the tempotron's output after training\n",
        "out_a = [tmp(s[1], t = t) for s ∈ samples];"
      ],
      "outputs": [],
      "execution_count": null,
      "metadata": {
        "collapsed": false,
        "outputHidden": false,
        "inputHidden": false,
        "outputExpanded": true
      }
    },
    {
      "cell_type": "markdown",
      "source": [
        "## Plots"
      ],
      "metadata": {}
    },
    {
      "cell_type": "code",
      "source": [
        "# Prepare to plot\n",
        "pyplot(size = (700, 1000))\n",
        "C(g::ColorGradient) = RGB[g[z]\n",
        "    for z = range(0, stop = 1, length = n_classes)]\n",
        "clibrary(:misc)\n",
        "g = :rainbow\n",
        "cols = cgrad(g) |> C\n",
        "\n",
        "# Plots\n",
        "inp_plots = [PlotInputs(s[1], T_max = T, color = cols[s[2] + 1])\n",
        "  for s ∈ samples]\n",
        "train_plots = [PlotPotential(tmp, out_b = out_b[i], out_a = out_a[i],\n",
        "                             t = t, color = cols[samples[i][2] + 1])\n",
        "                for i = 1:length(samples)]\n",
        "ps = vcat(reshape(inp_plots, 1, :), reshape(train_plots, 1, :))\n",
        "plot(ps[:]..., layout = (length(inp_plots), 2))"
      ],
      "outputs": [],
      "execution_count": null,
      "metadata": {
        "scrolled": false
      }
    }
  ],
  "metadata": {
    "@webio": {
      "lastCommId": null,
      "lastKernelId": null
    },
    "kernel_info": {
      "name": "julia-1.1"
    },
    "kernelspec": {
      "name": "julia-1.1",
      "language": "julia",
      "display_name": "Julia 1.1.0"
    },
    "language_info": {
      "file_extension": ".jl",
      "name": "julia",
      "mimetype": "application/julia",
      "version": "1.1.0"
    },
    "nteract": {
      "version": "0.14.3"
    }
  },
  "nbformat": 4,
  "nbformat_minor": 2
}