{
 "cells": [
  {
   "cell_type": "markdown",
   "metadata": {},
   "source": [
    "# Aggregate-Label Learning (Draft)\n",
    "\n",
    "A reproduction of the aggregate-label learning task using an implementation of the multi-spike tempotron in Julia. \n",
    "\n",
    "For further details see [Gütig, R. (2016). Spiking neurons can discover predictive features by aggregate-label learning. Science, 351(6277), aab4113.](https://science.sciencemag.org/content/351/6277/aab4113)"
   ]
  },
  {
   "cell_type": "markdown",
   "metadata": {},
   "source": [
    "## Imports"
   ]
  },
  {
   "cell_type": "code",
   "execution_count": 1,
   "metadata": {},
   "outputs": [],
   "source": [
    "using Tempotrons\n",
    "using Tempotrons.InputGen\n",
    "using Tempotrons.Plots\n",
    "using Tempotrons.Optimizers\n",
    "using ProgressMeter\n",
    "using Plots\n",
    "using Plots.PlotMeasures;"
   ]
  },
  {
   "cell_type": "markdown",
   "metadata": {},
   "source": [
    "## Set parameters"
   ]
  },
  {
   "cell_type": "code",
   "execution_count": 2,
   "metadata": {
    "inputHidden": false,
    "outputHidden": false,
    "scrolled": true
   },
   "outputs": [],
   "source": [
    "N                = 500                       # number of afferent neurons\n",
    "T                = 5000                      # base input duration (in ms)\n",
    "dt               = 1                         # time precision (in ms, for visualization purposes)\n",
    "ν                = 5                         # background/event firing frequency (in Hz)\n",
    "λ                = 0.001                     # learning rate\n",
    "opt              = SGD(λ, momentum = 0.99)   # optimizer\n",
    "Nᶠ               = 10                        # number of event types\n",
    "Tᶠ               = 50                        # event duration (in ms)\n",
    "Cᶠ_mean          = 5                         # mean number of event ocurrances per sample per event type\n",
    "n_steps          = 20000                     # number of training samples\n",
    "n_train_samples  = 5000                      # number of training samples\n",
    "n_test_samples   = 10                        # number of test samples\n",
    "tmp              = Tempotron(N = N, τₘ = 20) # the multi-spike tempotron\n",
    "Pretrain!(tmp);                            # initialize the tempotron's weights by a pretraining process (see original paper for details)"
   ]
  },
  {
   "cell_type": "markdown",
   "metadata": {
    "inputHidden": false,
    "outputHidden": false
   },
   "source": [
    "## Set teacher's rule\n",
    "Numbered examples follow [Fig.1](https://science.sciencemag.org/content/351/6277/aab4113#F2)(B) from the [original paper](https://science.sciencemag.org/content/351/6277/aab4113). "
   ]
  },
  {
   "cell_type": "code",
   "execution_count": 3,
   "metadata": {
    "inputHidden": false,
    "outputHidden": false
   },
   "outputs": [],
   "source": [
    "y₀(event_types)::Integer = isempty(event_types) ? 0 : length(filter(x -> x == 2, event_types));   #1\n",
    "# y₀(event_types)::Integer = isempty(event_types) ? 0 : 5*length(filter(x -> x == 2, event_types)); #2\n",
    "# y₀(event_types)::Integer = isempty(event_types) ? 0 : length(filter(x -> x%2 == 0, event_types)); #3\n",
    "# y₀(event_types)::Integer = isempty(event_types) ? 0 : sum(filter(x -> x%2 == 0, event_types)/2);  #4\n",
    "# y₀(event_types)::Integer = isempty(event_types) ? 0 : sum(filter(x -> x%5 == 0, event_types)/5);"
   ]
  },
  {
   "cell_type": "markdown",
   "metadata": {
    "inputHidden": false,
    "outputHidden": false
   },
   "source": [
    "## Generate samples"
   ]
  },
  {
   "cell_type": "markdown",
   "metadata": {},
   "source": [
    "### Input events"
   ]
  },
  {
   "cell_type": "code",
   "execution_count": 4,
   "metadata": {
    "inputHidden": false,
    "outputHidden": false
   },
   "outputs": [],
   "source": [
    "events = GetEvents(Nᶠ = Nᶠ, Tᶠ = Tᶠ, N = N, ν = ν);"
   ]
  },
  {
   "cell_type": "markdown",
   "metadata": {},
   "source": [
    "### Test samples"
   ]
  },
  {
   "cell_type": "code",
   "execution_count": 5,
   "metadata": {
    "inputHidden": false,
    "outputHidden": false
   },
   "outputs": [],
   "source": [
    "test_samples = [GenerateSampleWithEmbeddedEvents(events, Tᶠ = Tᶠ, Cᶠ_mean = Cᶠ_mean, ν = ν, T = T)\n",
    "                for j = 1:n_test_samples]\n",
    "test_samples = [(ts..., \n",
    "                 y = y₀(ts.event_types), \n",
    "                 t = collect(0:dt:maximum(abs, maximum.(abs, ts.x))))\n",
    "                for ts ∈ test_samples];"
   ]
  },
  {
   "cell_type": "code",
   "execution_count": 6,
   "metadata": {},
   "outputs": [],
   "source": [
    "# # Prepare to plot\n",
    "# plotlyjs(size = (800, 1200))\n",
    "# cols = collect(1:Nᶠ)#palette(:rainbow, Nᶠ)\n",
    "# test_events = [[(time = s.event_times[i], length = Tᶠ, color = cols[s.event_types[i]])\n",
    "#                 for i = 1:length(s.event_times)] \n",
    "#                for s ∈ test_samples]\n",
    "\n",
    "# # Plots\n",
    "# inp_plots = [PlotInputs(ReduceAfferents(test_samples[i].x, 0.1), events = test_events[i])\n",
    "#              for i = 1:length(test_samples)]\n",
    "# plot(inp_plots..., layout = (length(inp_plots), 1), link = :all)"
   ]
  },
  {
   "cell_type": "markdown",
   "metadata": {},
   "source": [
    "### Training samples"
   ]
  },
  {
   "cell_type": "code",
   "execution_count": 7,
   "metadata": {},
   "outputs": [
    {
     "name": "stderr",
     "output_type": "stream",
     "text": [
      "\u001b[32mGenerating samples...100%|██████████████████████████████| Time: 0:14:51\u001b[39mm\n"
     ]
    }
   ],
   "source": [
    "train_samples = @showprogress 1 \"Generating samples...\" [GenerateSampleWithEmbeddedEvents(events, Tᶠ = Tᶠ, \n",
    "                                                                                          Cᶠ_mean = Cᶠ_mean, \n",
    "                                                                                          ν = ν, T = T)\n",
    "                                                         for j = 1:n_train_samples]\n",
    "train_samples = [(x = ts.x, y = y₀(ts.event_types))\n",
    "                 for ts ∈ train_samples];"
   ]
  },
  {
   "cell_type": "markdown",
   "metadata": {},
   "source": [
    "## Train"
   ]
  },
  {
   "cell_type": "code",
   "execution_count": null,
   "metadata": {
    "inputHidden": false,
    "outputExpanded": true,
    "outputHidden": false,
    "scrolled": true
   },
   "outputs": [
    {
     "name": "stderr",
     "output_type": "stream",
     "text": [
      "\u001b[32mTraining...  3%|██                                      |  ETA: 10:07:45\u001b[39m"
     ]
    }
   ],
   "source": [
    "# Train the tempotron\n",
    "@showprogress 1 \"Training...\" for i = 1:n_steps\n",
    "    s = rand(train_samples)\n",
    "    Train!(tmp, s.x, s.y, optimizer = opt)\n",
    "end"
   ]
  },
  {
   "cell_type": "markdown",
   "metadata": {},
   "source": [
    "## Plots"
   ]
  },
  {
   "cell_type": "markdown",
   "metadata": {
    "inputHidden": false,
    "jupyter": {
     "outputs_hidden": false
    },
    "outputHidden": false
   },
   "source": [
    "#### Get voltage traces for the test samples"
   ]
  },
  {
   "cell_type": "code",
   "execution_count": null,
   "metadata": {
    "collapsed": false,
    "inputHidden": false,
    "jupyter": {
     "outputs_hidden": false
    },
    "outputHidden": false
   },
   "outputs": [],
   "source": [
    "out_a = @showprogress 1 \"Evaluating test samples...\" [tmp(s.x, t = s.t).V for s ∈ test_samples];"
   ]
  },
  {
   "cell_type": "markdown",
   "metadata": {
    "inputHidden": false,
    "jupyter": {
     "outputs_hidden": false
    },
    "outputHidden": false
   },
   "source": [
    "#### Prepare to plot"
   ]
  },
  {
   "cell_type": "code",
   "execution_count": null,
   "metadata": {
    "collapsed": false,
    "inputHidden": false,
    "jupyter": {
     "outputs_hidden": false
    },
    "outputHidden": false
   },
   "outputs": [],
   "source": [
    "plotlyjs(size = (800, 1200))\n",
    "cols = collect(1:Nᶠ)#palette(:rainbow, Nᶠ)\n",
    "test_events = [[(time = s.event_times[i], length = Tᶠ, color = cols[s.event_types[i]])\n",
    "                for i = 1:length(s.event_times)] \n",
    "               for s ∈ test_samples];"
   ]
  },
  {
   "cell_type": "markdown",
   "metadata": {
    "inputHidden": false,
    "jupyter": {
     "outputs_hidden": false
    },
    "outputHidden": false
   },
   "source": [
    "#### Plot"
   ]
  },
  {
   "cell_type": "code",
   "execution_count": null,
   "metadata": {
    "collapsed": false,
    "inputHidden": false,
    "jupyter": {
     "outputs_hidden": false
    },
    "outputHidden": false
   },
   "outputs": [],
   "source": [
    "inp_plots = [PlotInputs(ReduceAfferents(test_samples[i].x, 0.1), events = test_events[i])\n",
    "             for i = 1:length(test_samples)]\n",
    "train_plots = [PlotPotential(tmp, out = out_a[i],\n",
    "                             t = test_samples[i].t, events = test_events[i])\n",
    "               for i = 1:length(test_samples)]\n",
    "ps = [reshape(inp_plots, length(inp_plots), :); \n",
    "      reshape(train_plots, length(train_plots), :)]\n",
    "l = @layout [grid(length(inp_plots), 1) grid(length(inp_plots), 1)]\n",
    "plot(ps[:]..., layout = l, link = :all, left_margin = 8mm)\n",
    "savefig(\"AggLabels.png\");"
   ]
  }
 ],
 "metadata": {
  "@webio": {
   "lastCommId": null,
   "lastKernelId": null
  },
  "kernel_info": {
   "name": "julia-1.2"
  },
  "kernelspec": {
   "display_name": "Julia 1.4.1",
   "language": "julia",
   "name": "julia-1.4"
  },
  "language_info": {
   "file_extension": ".jl",
   "mimetype": "application/julia",
   "name": "julia",
   "version": "1.4.1"
  },
  "nteract": {
   "version": "0.15.0"
  }
 },
 "nbformat": 4,
 "nbformat_minor": 4
}
