{
 "cells": [
  {
   "cell_type": "markdown",
   "metadata": {},
   "source": [
    "# Aggregate-Label Learning (Draft)\n",
    "A reproduction of the aggregate-label learning task using an implementation of the multi-spike tempotron in Julia. \n",
    "For further details see [Gütig, R. (2016). Spiking neurons can discover predictive features by aggregate-label learning. Science, 351(6277), aab4113.](https://science.sciencemag.org/content/351/6277/aab4113)"
   ]
  },
  {
   "cell_type": "markdown",
   "metadata": {},
   "source": [
    "## Imports"
   ]
  },
  {
   "cell_type": "code",
   "execution_count": 1,
   "metadata": {},
   "outputs": [],
   "source": [
    "using Tempotrons\n",
    "using Tempotrons.InputGen\n",
    "using Tempotrons.Plots\n",
    "using Tempotrons.Optimizers\n",
    "using ProgressMeter\n",
    "using Plots;"
   ]
  },
  {
   "cell_type": "markdown",
   "metadata": {},
   "source": [
    "## Set parameters"
   ]
  },
  {
   "cell_type": "code",
   "execution_count": 2,
   "metadata": {
    "inputHidden": false,
    "outputHidden": false
   },
   "outputs": [],
   "source": [
    "N = 500\n",
    "T = 1000\n",
    "dt = 0.1\n",
    "t = collect(0:dt:T)\n",
    "ν = 5\n",
    "λ = 0.01\n",
    "opt = SGD(λ, momentum = 0.99)\n",
    "n_event_types = 10\n",
    "event_length = 50\n",
    "event_freq = 10\n",
    "n_steps = 20000\n",
    "n_test_samples = 10\n",
    "tmp = Tempotron(N = N, τₘ = 20)\n",
    "Pretrain!(tmp);"
   ]
  },
  {
   "cell_type": "markdown",
   "metadata": {},
   "source": [
    "## Generate input events"
   ]
  },
  {
   "cell_type": "code",
   "execution_count": 3,
   "metadata": {
    "inputHidden": false,
    "outputHidden": false
   },
   "outputs": [],
   "source": [
    "events = GetEvents(n_event_types, event_length::Real, N = N, ν = ν);"
   ]
  },
  {
   "cell_type": "markdown",
   "metadata": {
    "inputHidden": false,
    "outputHidden": false
   },
   "source": [
    "## Set teacher's rule\n",
    "Examples following Fig.1(B) from the [original paper](https://science.sciencemag.org/content/351/6277/aab4113). "
   ]
  },
  {
   "cell_type": "code",
   "execution_count": 4,
   "metadata": {
    "inputHidden": false,
    "outputHidden": false
   },
   "outputs": [],
   "source": [
    "y(event_types)::Integer = isempty(event_types) ? 0 : length(filter(x -> x == 2, event_types));    #1\n",
    "# y(event_types)::Integer = isempty(event_types) ? 0 : 5*length(filter(x -> x == 2, event_types));  #2\n",
    "# y(event_types)::Integer = isempty(event_types) ? 0 : length(filter(x -> x%2 == 0, event_types));  #3\n",
    "# y(event_types)::Integer = isempty(event_types) ? 0 : sum(filter(x -> x%2 == 0, event_types)/2);   #4\n",
    "# y(event_types)::Integer = isempty(event_types) ? 0 : sum(filter(x -> x%5 == 0, event_types)/5);"
   ]
  },
  {
   "cell_type": "markdown",
   "metadata": {
    "inputHidden": false,
    "outputHidden": false
   },
   "source": [
    "## Generate test samples"
   ]
  },
  {
   "cell_type": "code",
   "execution_count": 5,
   "metadata": {
    "inputHidden": false,
    "outputHidden": false
   },
   "outputs": [],
   "source": [
    "test_samples = [GenerateSampleWithEmbeddedEvents(events, event_length = event_length, \n",
    "                                                 event_freq = event_freq, ν = ν, T = T)\n",
    "                for j = 1:n_test_samples]\n",
    "test_samples = [(ts..., \n",
    "                 y = y(ts.event_types), \n",
    "                 t = collect(0:dt:maximum(abs, maximum.(abs, ts.x))))\n",
    "                for ts ∈ test_samples];"
   ]
  },
  {
   "cell_type": "markdown",
   "metadata": {},
   "source": [
    "## Training"
   ]
  },
  {
   "cell_type": "code",
   "execution_count": null,
   "metadata": {
    "inputHidden": false,
    "outputExpanded": true,
    "outputHidden": false
   },
   "outputs": [
    {
     "name": "stderr",
     "output_type": "stream",
     "text": [
      "\u001b[32mTraining...  2%|█                                       |  ETA: 1:14:04\u001b[39m"
     ]
    }
   ],
   "source": [
    "# Train the tempotron\n",
    "@showprogress 1 \"Training...\" for i = 1:n_steps\n",
    "    x, event_types, ~ = GenerateSampleWithEmbeddedEvents(events, event_length = event_length, \n",
    "                                                         event_freq = event_freq, ν = ν, T = T)\n",
    "    Train!(tmp, x, y(event_types), optimizer = opt)\n",
    "end\n",
    "\n",
    "# Get the tempotron's output after training\n",
    "out_a = [tmp(s.x, t = t).V for s ∈ test_samples];"
   ]
  },
  {
   "cell_type": "markdown",
   "metadata": {},
   "source": [
    "## Plots"
   ]
  },
  {
   "cell_type": "code",
   "execution_count": null,
   "metadata": {
    "collapsed": false,
    "inputHidden": false,
    "jupyter": {
     "outputs_hidden": false
    },
    "outputHidden": false
   },
   "outputs": [],
   "source": [
    "# Prepare to plot\n",
    "pyplot(size = (800, 1200))\n",
    "clibrary(:misc)\n",
    "cols = RGB[cgrad(:rainbow)[z] for z = range(0, stop = 1, length = n_event_types)]\n",
    "test_events = [[(time = s.event_times[i], length = event_length, color = cols[s.event_types[i]])\n",
    "                for i = 1:length(s.event_times)] \n",
    "               for s ∈ test_samples]\n",
    "\n",
    "# Plots\n",
    "inp_plots = [PlotInputs(test_samples[i].x, events = test_events[i])\n",
    "             for i = 1:length(test_samples)]\n",
    "train_plots = [PlotPotential(tmp, out = out_a[i],\n",
    "                             t = t, events = test_events[i])\n",
    "               for i = 1:length(test_samples)]\n",
    "ps = [reshape(inp_plots, 1, :);\n",
    "      reshape(train_plots, 1, :)]\n",
    "plot(ps[:]..., layout = (length(inp_plots), 2), link = :x)\n",
    "savefig(\"AggLabels.png\");"
   ]
  }
 ],
 "metadata": {
  "@webio": {
   "lastCommId": null,
   "lastKernelId": null
  },
  "kernel_info": {
   "name": "julia-1.2"
  },
  "kernelspec": {
   "display_name": "Julia 1.1.1",
   "language": "julia",
   "name": "julia-1.1"
  },
  "language_info": {
   "file_extension": ".jl",
   "mimetype": "application/julia",
   "name": "julia",
   "version": "1.1.1"
  },
  "nteract": {
   "version": "0.15.0"
  }
 },
 "nbformat": 4,
 "nbformat_minor": 4
}
